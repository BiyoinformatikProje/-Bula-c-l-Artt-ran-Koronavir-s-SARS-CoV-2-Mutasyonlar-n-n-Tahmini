{
  "nbformat": 4,
  "nbformat_minor": 0,
  "metadata": {
    "colab": {
      "name": "Untitled0.ipynb",
      "provenance": []
    },
    "kernelspec": {
      "name": "python3",
      "display_name": "Python 3"
    },
    "language_info": {
      "name": "python"
    }
  },
  "cells": [
    {
      "cell_type": "markdown",
      "metadata": {
        "id": "nBOMsQxVabo5"
      },
      "source": [
        "#Gerekli Kütüphanenin İmport Edilmesi \n"
      ]
    },
    {
      "cell_type": "code",
      "metadata": {
        "id": "sEZejcxuYtQO"
      },
      "source": [
        "import pandas as pd \n"
      ],
      "execution_count": 1,
      "outputs": []
    },
    {
      "cell_type": "markdown",
      "metadata": {
        "id": "koOV0zJLbQaY"
      },
      "source": [
        "# Verinin Python'a Aktarılması"
      ]
    },
    {
      "cell_type": "code",
      "metadata": {
        "id": "_7gHz7MCaaVh"
      },
      "source": [
        "    aminoasitler = [\"H\",\"R\",\"K\",\"I\",\"F\",\"L\",\"W\",\"A\",\"M\",\"P\",\"C\",\"N\",\"V\",\"G\",\"S\",\"Q\",\"Y\",\"D\",\"E\",\"T\"]\n",
        "    polarite = {aminoasitler[i]:[0,0,0,1,1,1,1,1,1,1,2,2,1,2,2,2,2,3,3,2][i] for i in range(len(aminoasitler))}\n",
        "    hacim = {aminoasitler[i]:[153.2,173.4,168.6,166.7,189.9,166.7,227.8,88.6,162.9,112.7,108.5,114.1,140.0,60.1,89.0,143.8,193.6,111.1,138.4,116.1][i] for i in range(len(aminoasitler))}\n",
        "    features = pd.read_csv(\"https://raw.githubusercontent.com/BiyoinformatikProje/Bulasiciligi-Arttiran-Koronavirus-SARS-CoV-2-Mutasyonlarinin-Tahmini/main/Ozellikler.csv\")\n",
        "    mutasyonlar = pd.read_csv(\"https://raw.githubusercontent.com/BiyoinformatikProje/Bulasiciligi-Arttiran-Koronavirus-SARS-CoV-2-Mutasyonlarinin-Tahmini/main/Deneysel_veriseti.csv\")\n",
        "    mkütle = {features[\"Amino acid code\"][i]:features[\"Molecular Mass (Da)\"][i] for i in range(len(features))}\n",
        "    hidropati = {features[\"Amino acid code\"][i]:features[\"Hydropathy index\"][i] for i in range(len(features))}\n",
        "  "
      ],
      "execution_count": 2,
      "outputs": []
    },
    {
      "cell_type": "markdown",
      "metadata": {
        "id": "Vow2pi8qbnMP"
      },
      "source": [
        "# Python'a Aktarılan Veriden Veriseti Oluşturulması"
      ]
    },
    {
      "cell_type": "code",
      "metadata": {
        "id": "57d8WhFabrrp"
      },
      "source": [
        "    hidropatifarkı = []\n",
        "    mkütlefarkı = []\n",
        "    hacimfarkı = []\n",
        "    polaritefarkı = []\n",
        "    mutantlar = []\n",
        "    wildtypelar = []\n",
        "    for i in range(len(mutasyonlar)):\n",
        "        wildtype = mutasyonlar[\"mutation\"][i][0]\n",
        "        mutant = mutasyonlar[\"mutation\"][i][len(mutasyonlar[\"mutation\"][i])-1]\n",
        "        mutantlar.append(mutant)\n",
        "        wildtypelar.append(wildtype)\n",
        "        hidropatifarkı.append(hidropati[mutant] - hidropati[wildtype])\n",
        "        mkütlefarkı.append(mkütle[mutant] - mkütle[wildtype])\n",
        "        hacimfarkı.append(hacim[mutant] - hacim[wildtype])\n",
        "        polaritefarkı.append(polarite[mutant] - polarite[wildtype])\n",
        "    data = pd.DataFrame(data = {\"wildtype\":wildtypelar,\"mutant\":mutantlar,\"hydropathy m-w\":hidropatifarkı,\"molecular mass m-w\":mkütlefarkı,\"polarity m-w\":polaritefarkı,\"volume m-w\":hacimfarkı,\"bind_avg\":mutasyonlar[\"bind_avg\"],\"expr_avg\":mutasyonlar[\"expr_avg\"]})"
      ],
      "execution_count": 3,
      "outputs": []
    },
    {
      "cell_type": "markdown",
      "metadata": {
        "id": "D__nZquxcAxO"
      },
      "source": [
        "#Veriye Eklenecek Yeni Özelliklerin Python'a Aktarılması"
      ]
    },
    {
      "cell_type": "code",
      "metadata": {
        "id": "TPqX9wgGcDUt"
      },
      "source": [
        "    aminoacids = [\"R\",\"H\",\"K\",\"D\",\"E\",\"S\",\"T\",\"N\",\"Q\",\"C\",\"U\",\"G\",\"P\",\"A\",\"V\",\"I\",\"L\",\"M\",\"F\",\"Y\",\"W\"]\n",
        "    ring = [0,1,0,0,0,0,0,0,0,0,0,0,1,0,0,0,0,0,1,1,2]\n",
        "    dbond = [2,1,1,2,2,1,1,2,2,1,1,1,1,1,1,1,1,1,1,1,1]\n",
        "    carbon   = [6,3,6,4,5,3,4,4,5,3,3,2,5,3,5,6,6,5,3,3,3]\n",
        "    oxygen   = [2,2,2,4,4,3,2,3,3,2,2,2,2,2,2,2,2,2,2,2,2]\n",
        "    hydrogen = [14,7,14,7,9,7,9,8,10,7,7,5,9,7,11,13,13,11,11,11,12]\n",
        "    ring_d     = {}\n",
        "    dbond_d    = {}\n",
        "    state_d    = {}\n",
        "    oxygen_d   = {}\n",
        "    hydrogen_d = {}"
      ],
      "execution_count": 4,
      "outputs": []
    },
    {
      "cell_type": "markdown",
      "metadata": {
        "id": "YM40HnF5eQCL"
      },
      "source": [
        "# Yeni Özellikleri İçeren Verinin Oluşturulması"
      ]
    },
    {
      "cell_type": "code",
      "metadata": {
        "id": "tGmTAkBLeRCX"
      },
      "source": [
        "    for i in range(len(aminoacids)):\n",
        "        acid = aminoacids[i]\n",
        "        dbond_d[acid] = dbond[i]\n",
        "        oxygen_d[acid]= oxygen[i]\n",
        "        hydrogen_d[acid] = hydrogen[i]\n",
        "        ring_d[acid] = ring[i]\n",
        "    dbonddiff = [dbond_d[data.iloc[i][\"mutant\"]] - dbond_d[data.iloc[i][\"wildtype\"]] for i in range(len(data))]\n",
        "    oxygendiff = [oxygen_d[data.iloc[i][\"mutant\"]] - oxygen_d[data.iloc[i][\"wildtype\"]] for i in range(len(data))]\n",
        "    hydrogendiff = [hydrogen_d[data.iloc[i][\"mutant\"]] - hydrogen_d[data.iloc[i][\"wildtype\"]] for i in range(len(data))]\n",
        "    ringdiff = [ring_d[data.iloc[i][\"mutant\"]] - ring_d[data.iloc[i][\"wildtype\"]] for i in range(len(data))]\n",
        "    df = pd.DataFrame(data = {\"Double Bond m-w\":dbonddiff,\"Oxygen m-w\":oxygendiff,\"Hydrogen m-w\":hydrogendiff,\"Ring m-w\":ringdiff})\n",
        "    data[\"Double Bond m-w\"] = dbonddiff \n",
        "    data[\"Oxygen m-w\"] = oxygendiff \n",
        "    data[\"Hydrogen m-w\"] = hydrogendiff \n",
        "    data[\"Ring m-w\"] = ringdiff"
      ],
      "execution_count": 5,
      "outputs": []
    },
    {
      "cell_type": "markdown",
      "metadata": {
        "id": "_8QsJw9Jej_T"
      },
      "source": [
        "# Bağlanma Değerini Azaltan Mutasyonarın Ayıklanması"
      ]
    },
    {
      "cell_type": "code",
      "metadata": {
        "id": "X8CRob1be6Ga"
      },
      "source": [
        "data = data[data[\"bind_avg\"]>=0].reset_index().drop(columns=  [\"index\"])"
      ],
      "execution_count": 6,
      "outputs": []
    },
    {
      "cell_type": "markdown",
      "metadata": {
        "id": "DVqUBw5JfCoh"
      },
      "source": [
        "# Sonuç "
      ]
    },
    {
      "cell_type": "code",
      "metadata": {
        "colab": {
          "base_uri": "https://localhost:8080/",
          "height": 419
        },
        "id": "K2guDwwsfD6B",
        "outputId": "7ead4d95-aa80-433d-a4ee-fb03d3c242f2"
      },
      "source": [
        "data"
      ],
      "execution_count": 7,
      "outputs": [
        {
          "output_type": "execute_result",
          "data": {
            "text/html": [
              "<div>\n",
              "<style scoped>\n",
              "    .dataframe tbody tr th:only-of-type {\n",
              "        vertical-align: middle;\n",
              "    }\n",
              "\n",
              "    .dataframe tbody tr th {\n",
              "        vertical-align: top;\n",
              "    }\n",
              "\n",
              "    .dataframe thead th {\n",
              "        text-align: right;\n",
              "    }\n",
              "</style>\n",
              "<table border=\"1\" class=\"dataframe\">\n",
              "  <thead>\n",
              "    <tr style=\"text-align: right;\">\n",
              "      <th></th>\n",
              "      <th>wildtype</th>\n",
              "      <th>mutant</th>\n",
              "      <th>hydropathy m-w</th>\n",
              "      <th>molecular mass m-w</th>\n",
              "      <th>polarity m-w</th>\n",
              "      <th>volume m-w</th>\n",
              "      <th>bind_avg</th>\n",
              "      <th>expr_avg</th>\n",
              "      <th>Double Bond m-w</th>\n",
              "      <th>Oxygen m-w</th>\n",
              "      <th>Hydrogen m-w</th>\n",
              "      <th>Ring m-w</th>\n",
              "    </tr>\n",
              "  </thead>\n",
              "  <tbody>\n",
              "    <tr>\n",
              "      <th>0</th>\n",
              "      <td>N</td>\n",
              "      <td>D</td>\n",
              "      <td>0.0</td>\n",
              "      <td>1.0</td>\n",
              "      <td>1</td>\n",
              "      <td>-3.0</td>\n",
              "      <td>0.03</td>\n",
              "      <td>-0.44</td>\n",
              "      <td>0</td>\n",
              "      <td>1</td>\n",
              "      <td>-1</td>\n",
              "      <td>0</td>\n",
              "    </tr>\n",
              "    <tr>\n",
              "      <th>1</th>\n",
              "      <td>N</td>\n",
              "      <td>E</td>\n",
              "      <td>0.0</td>\n",
              "      <td>15.0</td>\n",
              "      <td>1</td>\n",
              "      <td>24.3</td>\n",
              "      <td>0.00</td>\n",
              "      <td>-0.31</td>\n",
              "      <td>0</td>\n",
              "      <td>1</td>\n",
              "      <td>1</td>\n",
              "      <td>0</td>\n",
              "    </tr>\n",
              "    <tr>\n",
              "      <th>2</th>\n",
              "      <td>N</td>\n",
              "      <td>N</td>\n",
              "      <td>0.0</td>\n",
              "      <td>0.0</td>\n",
              "      <td>0</td>\n",
              "      <td>0.0</td>\n",
              "      <td>0.00</td>\n",
              "      <td>0.00</td>\n",
              "      <td>0</td>\n",
              "      <td>0</td>\n",
              "      <td>0</td>\n",
              "      <td>0</td>\n",
              "    </tr>\n",
              "    <tr>\n",
              "      <th>3</th>\n",
              "      <td>N</td>\n",
              "      <td>Q</td>\n",
              "      <td>0.0</td>\n",
              "      <td>14.0</td>\n",
              "      <td>0</td>\n",
              "      <td>29.7</td>\n",
              "      <td>0.01</td>\n",
              "      <td>-0.53</td>\n",
              "      <td>0</td>\n",
              "      <td>0</td>\n",
              "      <td>2</td>\n",
              "      <td>0</td>\n",
              "    </tr>\n",
              "    <tr>\n",
              "      <th>4</th>\n",
              "      <td>N</td>\n",
              "      <td>T</td>\n",
              "      <td>2.8</td>\n",
              "      <td>-13.0</td>\n",
              "      <td>0</td>\n",
              "      <td>2.0</td>\n",
              "      <td>0.06</td>\n",
              "      <td>-0.34</td>\n",
              "      <td>-1</td>\n",
              "      <td>-1</td>\n",
              "      <td>1</td>\n",
              "      <td>0</td>\n",
              "    </tr>\n",
              "    <tr>\n",
              "      <th>...</th>\n",
              "      <td>...</td>\n",
              "      <td>...</td>\n",
              "      <td>...</td>\n",
              "      <td>...</td>\n",
              "      <td>...</td>\n",
              "      <td>...</td>\n",
              "      <td>...</td>\n",
              "      <td>...</td>\n",
              "      <td>...</td>\n",
              "      <td>...</td>\n",
              "      <td>...</td>\n",
              "      <td>...</td>\n",
              "    </tr>\n",
              "    <tr>\n",
              "      <th>610</th>\n",
              "      <td>T</td>\n",
              "      <td>L</td>\n",
              "      <td>4.5</td>\n",
              "      <td>12.0</td>\n",
              "      <td>-1</td>\n",
              "      <td>50.6</td>\n",
              "      <td>0.01</td>\n",
              "      <td>0.00</td>\n",
              "      <td>0</td>\n",
              "      <td>0</td>\n",
              "      <td>4</td>\n",
              "      <td>0</td>\n",
              "    </tr>\n",
              "    <tr>\n",
              "      <th>611</th>\n",
              "      <td>T</td>\n",
              "      <td>P</td>\n",
              "      <td>-0.9</td>\n",
              "      <td>-4.0</td>\n",
              "      <td>-1</td>\n",
              "      <td>-3.4</td>\n",
              "      <td>0.01</td>\n",
              "      <td>-0.02</td>\n",
              "      <td>0</td>\n",
              "      <td>0</td>\n",
              "      <td>0</td>\n",
              "      <td>1</td>\n",
              "    </tr>\n",
              "    <tr>\n",
              "      <th>612</th>\n",
              "      <td>T</td>\n",
              "      <td>S</td>\n",
              "      <td>-0.1</td>\n",
              "      <td>-14.0</td>\n",
              "      <td>0</td>\n",
              "      <td>-27.1</td>\n",
              "      <td>0.01</td>\n",
              "      <td>0.02</td>\n",
              "      <td>0</td>\n",
              "      <td>1</td>\n",
              "      <td>-2</td>\n",
              "      <td>0</td>\n",
              "    </tr>\n",
              "    <tr>\n",
              "      <th>613</th>\n",
              "      <td>T</td>\n",
              "      <td>T</td>\n",
              "      <td>0.0</td>\n",
              "      <td>0.0</td>\n",
              "      <td>0</td>\n",
              "      <td>0.0</td>\n",
              "      <td>0.00</td>\n",
              "      <td>0.00</td>\n",
              "      <td>0</td>\n",
              "      <td>0</td>\n",
              "      <td>0</td>\n",
              "      <td>0</td>\n",
              "    </tr>\n",
              "    <tr>\n",
              "      <th>614</th>\n",
              "      <td>T</td>\n",
              "      <td>V</td>\n",
              "      <td>4.9</td>\n",
              "      <td>-2.0</td>\n",
              "      <td>-1</td>\n",
              "      <td>23.9</td>\n",
              "      <td>0.01</td>\n",
              "      <td>-0.06</td>\n",
              "      <td>0</td>\n",
              "      <td>0</td>\n",
              "      <td>2</td>\n",
              "      <td>0</td>\n",
              "    </tr>\n",
              "  </tbody>\n",
              "</table>\n",
              "<p>615 rows × 12 columns</p>\n",
              "</div>"
            ],
            "text/plain": [
              "    wildtype mutant  hydropathy m-w  ...  Oxygen m-w  Hydrogen m-w  Ring m-w\n",
              "0          N      D             0.0  ...           1            -1         0\n",
              "1          N      E             0.0  ...           1             1         0\n",
              "2          N      N             0.0  ...           0             0         0\n",
              "3          N      Q             0.0  ...           0             2         0\n",
              "4          N      T             2.8  ...          -1             1         0\n",
              "..       ...    ...             ...  ...         ...           ...       ...\n",
              "610        T      L             4.5  ...           0             4         0\n",
              "611        T      P            -0.9  ...           0             0         1\n",
              "612        T      S            -0.1  ...           1            -2         0\n",
              "613        T      T             0.0  ...           0             0         0\n",
              "614        T      V             4.9  ...           0             2         0\n",
              "\n",
              "[615 rows x 12 columns]"
            ]
          },
          "metadata": {},
          "execution_count": 7
        }
      ]
    }
  ]
}